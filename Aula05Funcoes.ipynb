{
  "nbformat": 4,
  "nbformat_minor": 0,
  "metadata": {
    "colab": {
      "name": "Aula05Funcoes.ipynb",
      "provenance": [],
      "authorship_tag": "ABX9TyPHv3965BJZEQQ8CsRDDM6R",
      "include_colab_link": true
    },
    "kernelspec": {
      "name": "python3",
      "display_name": "Python 3"
    },
    "language_info": {
      "name": "python"
    }
  },
  "cells": [
    {
      "cell_type": "markdown",
      "metadata": {
        "id": "view-in-github",
        "colab_type": "text"
      },
      "source": [
        "<a href=\"https://colab.research.google.com/github/juhlianna/Aula05Funcoes/blob/main/Aula05Funcoes.ipynb\" target=\"_parent\"><img src=\"https://colab.research.google.com/assets/colab-badge.svg\" alt=\"Open In Colab\"/></a>"
      ]
    },
    {
      "cell_type": "markdown",
      "source": [
        "# FUNÇÕES"
      ],
      "metadata": {
        "id": "zaBx4_fCPHqY"
      }
    },
    {
      "cell_type": "markdown",
      "source": [
        "Nossa primeira função"
      ],
      "metadata": {
        "id": "BwaJsDR4PNAv"
      }
    },
    {
      "cell_type": "code",
      "execution_count": 2,
      "metadata": {
        "colab": {
          "base_uri": "https://localhost:8080/"
        },
        "id": "zmwmYmQlPD0n",
        "outputId": "e4aa7265-5af7-419a-dad5-b8931843ba23"
      },
      "outputs": [
        {
          "output_type": "stream",
          "name": "stdout",
          "text": [
            "| ____________________ |\n",
            "| ____________________ |\n",
            "         Menu\n",
            "| ____________________ |\n",
            "| ____________________ |\n"
          ]
        }
      ],
      "source": [
        "print('|','__' * 10,'|')\n",
        "print('|','__' * 10,'|')\n",
        "print('         Menu')\n",
        "print('|','__' * 10,'|')\n",
        "print('|','__' * 10,'|')"
      ]
    },
    {
      "cell_type": "markdown",
      "source": [
        "Voltando..."
      ],
      "metadata": {
        "id": "-vxVr_5BRgPv"
      }
    },
    {
      "cell_type": "code",
      "source": [
        "def realce():\n",
        "    #corpo da função\n",
        "    print('|','__' * 10, '|')\n",
        "    print('|','__' * 10, '|')"
      ],
      "metadata": {
        "id": "Vq6msH-iRiv5"
      },
      "execution_count": 3,
      "outputs": []
    },
    {
      "cell_type": "code",
      "source": [
        "#Programa principal\n",
        "realce()\n",
        "print('       Menu')\n",
        "realce()"
      ],
      "metadata": {
        "colab": {
          "base_uri": "https://localhost:8080/"
        },
        "id": "2JkFU_96R_S2",
        "outputId": "beda8c4a-8f8f-45ea-8df5-0c4371d110a9"
      },
      "execution_count": 4,
      "outputs": [
        {
          "output_type": "stream",
          "name": "stdout",
          "text": [
            "| ____________________ |\n",
            "| ____________________ |\n",
            "       Menu\n",
            "| ____________________ |\n",
            "| ____________________ |\n"
          ]
        }
      ]
    },
    {
      "cell_type": "code",
      "source": [
        "def realce(s1):    \n",
        "    print('|','__' * 10, '|')\n",
        "    print('|','__' * 10, '|')\n",
        "    print(s1)\n",
        "    print('|','__' * 10, '|')\n",
        "    print('|','__' * 10, '|')"
      ],
      "metadata": {
        "id": "80spW8LdTTJj"
      },
      "execution_count": 5,
      "outputs": []
    },
    {
      "cell_type": "code",
      "source": [
        "#Programa Principal\n",
        "realce('        Juhlianna')"
      ],
      "metadata": {
        "colab": {
          "base_uri": "https://localhost:8080/"
        },
        "id": "61ZCQd6yTgJy",
        "outputId": "9d30fc5f-ccdc-429f-a057-35d94798a3e0"
      },
      "execution_count": 6,
      "outputs": [
        {
          "output_type": "stream",
          "name": "stdout",
          "text": [
            "| ____________________ |\n",
            "| ____________________ |\n",
            "        Juhlianna\n",
            "| ____________________ |\n",
            "| ____________________ |\n"
          ]
        }
      ]
    },
    {
      "cell_type": "code",
      "source": [
        "def sub2(x, y):\n",
        "    res = x - y\n",
        "    print(res)\n",
        "\n",
        "#Programa Principal\n",
        "sub2(5, 7 )\n"
      ],
      "metadata": {
        "colab": {
          "base_uri": "https://localhost:8080/"
        },
        "id": "zw9p3M8cTp5w",
        "outputId": "084ad211-1d8f-4fca-850a-190dd679e309"
      },
      "execution_count": 7,
      "outputs": [
        {
          "output_type": "stream",
          "name": "stdout",
          "text": [
            "-2\n"
          ]
        }
      ]
    },
    {
      "cell_type": "code",
      "source": [
        "sub2(7, 5)"
      ],
      "metadata": {
        "colab": {
          "base_uri": "https://localhost:8080/"
        },
        "id": "hRePxuJeUOxg",
        "outputId": "c9bdbc32-547a-4d45-a073-d5f39aac01d6"
      },
      "execution_count": 8,
      "outputs": [
        {
          "output_type": "stream",
          "name": "stdout",
          "text": [
            "2\n"
          ]
        }
      ]
    },
    {
      "cell_type": "code",
      "source": [
        "sub2(y = 7, x = 5)"
      ],
      "metadata": {
        "colab": {
          "base_uri": "https://localhost:8080/"
        },
        "id": "x2vT3yIpUS9A",
        "outputId": "615ffe25-2e5b-42f2-d449-164c87425ee8"
      },
      "execution_count": 9,
      "outputs": [
        {
          "output_type": "stream",
          "name": "stdout",
          "text": [
            "-2\n"
          ]
        }
      ]
    },
    {
      "cell_type": "markdown",
      "source": [
        "# Parâmetros Opcionais"
      ],
      "metadata": {
        "id": "0mrR-Hf8UtDG"
      }
    },
    {
      "cell_type": "code",
      "source": [
        "def soma3(x, y, z):\n",
        "    res = x + y + z\n",
        "    print(res)"
      ],
      "metadata": {
        "id": "hAlxNR5-UwMW"
      },
      "execution_count": 10,
      "outputs": []
    },
    {
      "cell_type": "code",
      "source": [
        "def soma3(x = 0, y = 0, z = 0):\n",
        "    res = x + y + z\n",
        "    print(res)"
      ],
      "metadata": {
        "id": "UKlFZuBXU6D1"
      },
      "execution_count": 14,
      "outputs": []
    },
    {
      "cell_type": "code",
      "source": [
        "soma3(1,2,3)\n",
        "soma3(1,2) #z foi omitido\n",
        "soma3(1) #y e z foram omitidos\n",
        "soma3() #x, y e z foram omitidos"
      ],
      "metadata": {
        "colab": {
          "base_uri": "https://localhost:8080/"
        },
        "id": "DlAzdoZbVms0",
        "outputId": "b37b1a9c-f840-44d7-fc79-376c3f07deff"
      },
      "execution_count": 15,
      "outputs": [
        {
          "output_type": "stream",
          "name": "stdout",
          "text": [
            "6\n",
            "3\n",
            "1\n",
            "0\n"
          ]
        }
      ]
    },
    {
      "cell_type": "code",
      "source": [
        "#Escreva uma rotina que crie uma borda ao redor de uma palavra para destacá-la como sendo um título.\n",
        "#A rotina deve receber como parâmetro a palavra a ser destacada. O tamanho da caixa de texto deverá\n",
        "#ser adaptável de acordo com o tamanho da palavra. Por exemplo:\n",
        "\n",
        "def borda(s1):\n",
        "    tam = len(s1)\n",
        "    # só imprime caso exista algum caractere\n",
        "    if tam:\n",
        "        print('+','-' * tam,'+')\n",
        "        print('|',s1,'|')\n",
        "        print('+','-' * tam,'+')\n",
        "\n",
        "#Programa Principal\n",
        "borda('Olá, Mundo!')\n",
        "borda('Lógica de Programação e Algoritmos')"
      ],
      "metadata": {
        "colab": {
          "base_uri": "https://localhost:8080/"
        },
        "id": "cazo-RSmWudD",
        "outputId": "a39f56db-0fc1-4561-fa89-de35076d1fa0"
      },
      "execution_count": 16,
      "outputs": [
        {
          "output_type": "stream",
          "name": "stdout",
          "text": [
            "+ ----------- +\n",
            "| Olá, Mundo! |\n",
            "+ ----------- +\n",
            "+ ---------------------------------- +\n",
            "| Lógica de Programação e Algoritmos |\n",
            "+ ---------------------------------- +\n"
          ]
        }
      ]
    },
    {
      "cell_type": "markdown",
      "source": [
        "# Escopo de Variáveis"
      ],
      "metadata": {
        "id": "qwdnwIqYY_jK"
      }
    },
    {
      "cell_type": "code",
      "source": [
        "def comida():\n",
        "    print(ovos)\n",
        "\n",
        "# Programa Principal\n",
        "ovos = 12\n",
        "comida()\n"
      ],
      "metadata": {
        "colab": {
          "base_uri": "https://localhost:8080/"
        },
        "id": "AaM6ZL37ZCc5",
        "outputId": "57a88ad7-5791-450f-8f85-c2663947dab3"
      },
      "execution_count": 17,
      "outputs": [
        {
          "output_type": "stream",
          "name": "stdout",
          "text": [
            "12\n"
          ]
        }
      ]
    },
    {
      "cell_type": "code",
      "source": [
        "def comida():\n",
        "    ovos = 12\n",
        "    bacon()\n",
        "    print(ovos)\n",
        "\n",
        "def bacon():\n",
        "    ovos = 6\n",
        "\n",
        "#  Programa Principal\n",
        "comida()"
      ],
      "metadata": {
        "colab": {
          "base_uri": "https://localhost:8080/"
        },
        "id": "R9tXw78hZulo",
        "outputId": "46a9772d-a9b5-4129-ecdb-30fd226de222"
      },
      "execution_count": 18,
      "outputs": [
        {
          "output_type": "stream",
          "name": "stdout",
          "text": [
            "12\n"
          ]
        }
      ]
    },
    {
      "cell_type": "code",
      "source": [
        "def comida():\n",
        "    ovos = 'variável local de comida'\n",
        "    print(ovos)\n",
        "\n",
        "def bacon():\n",
        "    ovos = 'variável local de bacon'\n",
        "    print(ovos)\n",
        "    comida()\n",
        "    print(ovos)\n",
        "\n",
        "#Programa Principal\n",
        "ovos = 'variável global'\n",
        "bacon()\n",
        "print(ovos)"
      ],
      "metadata": {
        "colab": {
          "base_uri": "https://localhost:8080/"
        },
        "id": "grXz-a4NaQTo",
        "outputId": "463e08ac-a221-4dd0-9f7e-8ca14640f756"
      },
      "execution_count": 19,
      "outputs": [
        {
          "output_type": "stream",
          "name": "stdout",
          "text": [
            "variável local de bacon\n",
            "variável local de comida\n",
            "variável local de bacon\n",
            "variável global\n"
          ]
        }
      ]
    },
    {
      "cell_type": "markdown",
      "source": [
        "A Instrução global"
      ],
      "metadata": {
        "id": "dbymTvapbDm8"
      }
    },
    {
      "cell_type": "code",
      "source": [
        "def comida():\n",
        "    global ovos\n",
        "    ovos = 'comida'\n",
        "\n",
        "# Programa Principal\n",
        "ovos = 'global'\n",
        "comida()\n",
        "print(ovos)"
      ],
      "metadata": {
        "colab": {
          "base_uri": "https://localhost:8080/"
        },
        "id": "ccS1ygBibIPV",
        "outputId": "806770af-1f79-40d8-8457-8d0bff078419"
      },
      "execution_count": 20,
      "outputs": [
        {
          "output_type": "stream",
          "name": "stdout",
          "text": [
            "comida\n"
          ]
        }
      ]
    },
    {
      "cell_type": "markdown",
      "source": [
        "# RETORNO DE VALORES EM FUNÇÕES"
      ],
      "metadata": {
        "id": "yWAeh16qcPcB"
      }
    },
    {
      "cell_type": "code",
      "source": [
        "def soma3(x = 0, y = 0, z = 0):\n",
        "    res = x + y + z\n",
        "    return res\n"
      ],
      "metadata": {
        "id": "oA7gOVcbcTC5"
      },
      "execution_count": 21,
      "outputs": []
    },
    {
      "cell_type": "code",
      "source": [
        "#Programa Principal\n",
        "retornado = soma3(1,2,3)\n",
        "print(retornado)\n",
        "\n",
        "#forma alternativa simplificada\n",
        "print(soma3(2,2))"
      ],
      "metadata": {
        "colab": {
          "base_uri": "https://localhost:8080/"
        },
        "id": "-RixLZ52ce7g",
        "outputId": "9344bea1-687a-401f-e452-974f335b5a0e"
      },
      "execution_count": 22,
      "outputs": [
        {
          "output_type": "stream",
          "name": "stdout",
          "text": [
            "6\n",
            "4\n"
          ]
        }
      ]
    },
    {
      "cell_type": "code",
      "source": [
        "#Programa Principal\n",
        "retornado1 = soma3(1,2,3)\n",
        "retornado2 = soma3(1,2)\n",
        "retornado3 = soma3()\n",
        "print('Somatórios: {}, {} e {}.'.format(retornado1,retornado2,retornado3))"
      ],
      "metadata": {
        "colab": {
          "base_uri": "https://localhost:8080/"
        },
        "id": "w-pQWqlZcwin",
        "outputId": "a3896c00-a1da-4e80-a369-fbdebd6cffa3"
      },
      "execution_count": 23,
      "outputs": [
        {
          "output_type": "stream",
          "name": "stdout",
          "text": [
            "Somatórios: 6, 3 e 0.\n"
          ]
        }
      ]
    },
    {
      "cell_type": "code",
      "source": [
        "#Escreva uma função para validar uma string.\n",
        "#Essa função recebe como parâmetro a string, o número mínimo e máximo de caracteres.\n",
        "#Retorne verdadeiro se o tamanho da string estiver entre os valores de mínimo e máximo, e falso, \n",
        "#caso contrário (elaborado com base em Menezes, s.d.)\n",
        "\n",
        "def valida_string(pergunta, min, max):\n",
        "    s1 = input(pergunta)\n",
        "    tam = len(s1)\n",
        "    while ((tam < min) or (tam > max)):\n",
        "        s1 = input(pergunta)\n",
        "        tam = len(s1)\n",
        "    return s1\n",
        "\n",
        "#Programa Principal\n",
        "x = valida_string('Digite uma string: ', 10, 30)\n",
        "print('Você digitou a string: {}. \\n Dado inválido. Encerrando o programa...'.format(x))"
      ],
      "metadata": {
        "colab": {
          "base_uri": "https://localhost:8080/"
        },
        "id": "YiNBvTg_dmIe",
        "outputId": "d0bbe269-3ced-4d7a-d242-c91abc640797"
      },
      "execution_count": 24,
      "outputs": [
        {
          "output_type": "stream",
          "name": "stdout",
          "text": [
            "Digite uma string: Teste\n",
            "Digite uma string: Algoritmos\n",
            "Você digitou a string: Algoritmos. \n",
            " Dado inválido. Encerrando o programa...\n"
          ]
        }
      ]
    },
    {
      "cell_type": "code",
      "source": [
        ""
      ],
      "metadata": {
        "id": "CCLN7c9_gEY3"
      },
      "execution_count": null,
      "outputs": []
    }
  ]
}